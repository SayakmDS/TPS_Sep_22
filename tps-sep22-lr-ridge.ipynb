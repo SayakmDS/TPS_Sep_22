{
 "cells": [
  {
   "cell_type": "code",
   "execution_count": 1,
   "id": "fd58e1b7",
   "metadata": {
    "_cell_guid": "b1076dfc-b9ad-4769-8c92-a6c4dae69d19",
    "_uuid": "8f2839f25d086af736a60e9eeb907d3b93b6e0e5",
    "execution": {
     "iopub.execute_input": "2022-09-30T04:01:12.793203Z",
     "iopub.status.busy": "2022-09-30T04:01:12.792406Z",
     "iopub.status.idle": "2022-09-30T04:01:14.533516Z",
     "shell.execute_reply": "2022-09-30T04:01:14.532406Z"
    },
    "papermill": {
     "duration": 1.757283,
     "end_time": "2022-09-30T04:01:14.536711",
     "exception": false,
     "start_time": "2022-09-30T04:01:12.779428",
     "status": "completed"
    },
    "tags": []
   },
   "outputs": [],
   "source": [
    "import warnings\n",
    "warnings.filterwarnings('ignore')\n",
    "\n",
    "import pandas as pd\n",
    "import numpy as np\n",
    "import matplotlib.pyplot as plt\n",
    "import matplotlib.dates as mdates\n",
    "import seaborn as sns\n",
    "\n",
    "import dateutil.easter as easter\n",
    "import holidays\n",
    "import datetime \n",
    "\n",
    "from sklearn.model_selection import train_test_split\n",
    "from sklearn.pipeline import make_pipeline\n",
    "from sklearn.linear_model import LinearRegression\n",
    "from sklearn.linear_model import Ridge\n",
    "\n",
    "# !pip install flaml\n",
    "# from flaml import AutoML\n",
    "\n",
    "from sklearn.metrics import mean_absolute_error, mean_squared_error\n",
    "from sklearn import preprocessing\n",
    "from sklearn.model_selection import GroupKFold\n",
    "%matplotlib inline"
   ]
  },
  {
   "cell_type": "markdown",
   "id": "7066db18",
   "metadata": {
    "papermill": {
     "duration": 0.00747,
     "end_time": "2022-09-30T04:01:14.551582",
     "exception": false,
     "start_time": "2022-09-30T04:01:14.544112",
     "status": "completed"
    },
    "tags": []
   },
   "source": [
    "### Loading Data"
   ]
  },
  {
   "cell_type": "code",
   "execution_count": 2,
   "id": "27caa855",
   "metadata": {
    "execution": {
     "iopub.execute_input": "2022-09-30T04:01:14.568478Z",
     "iopub.status.busy": "2022-09-30T04:01:14.567759Z",
     "iopub.status.idle": "2022-09-30T04:01:14.767822Z",
     "shell.execute_reply": "2022-09-30T04:01:14.766424Z"
    },
    "papermill": {
     "duration": 0.211768,
     "end_time": "2022-09-30T04:01:14.770700",
     "exception": false,
     "start_time": "2022-09-30T04:01:14.558932",
     "status": "completed"
    },
    "tags": []
   },
   "outputs": [
    {
     "data": {
      "text/html": [
       "<div>\n",
       "<style scoped>\n",
       "    .dataframe tbody tr th:only-of-type {\n",
       "        vertical-align: middle;\n",
       "    }\n",
       "\n",
       "    .dataframe tbody tr th {\n",
       "        vertical-align: top;\n",
       "    }\n",
       "\n",
       "    .dataframe thead th {\n",
       "        text-align: right;\n",
       "    }\n",
       "</style>\n",
       "<table border=\"1\" class=\"dataframe\">\n",
       "  <thead>\n",
       "    <tr style=\"text-align: right;\">\n",
       "      <th></th>\n",
       "      <th>row_id</th>\n",
       "      <th>date</th>\n",
       "      <th>country</th>\n",
       "      <th>store</th>\n",
       "      <th>product</th>\n",
       "      <th>num_sold</th>\n",
       "    </tr>\n",
       "  </thead>\n",
       "  <tbody>\n",
       "    <tr>\n",
       "      <th>0</th>\n",
       "      <td>0</td>\n",
       "      <td>2017-01-01</td>\n",
       "      <td>Belgium</td>\n",
       "      <td>KaggleMart</td>\n",
       "      <td>Kaggle Advanced Techniques</td>\n",
       "      <td>663</td>\n",
       "    </tr>\n",
       "    <tr>\n",
       "      <th>1</th>\n",
       "      <td>1</td>\n",
       "      <td>2017-01-01</td>\n",
       "      <td>Belgium</td>\n",
       "      <td>KaggleMart</td>\n",
       "      <td>Kaggle Getting Started</td>\n",
       "      <td>615</td>\n",
       "    </tr>\n",
       "    <tr>\n",
       "      <th>2</th>\n",
       "      <td>2</td>\n",
       "      <td>2017-01-01</td>\n",
       "      <td>Belgium</td>\n",
       "      <td>KaggleMart</td>\n",
       "      <td>Kaggle Recipe Book</td>\n",
       "      <td>480</td>\n",
       "    </tr>\n",
       "    <tr>\n",
       "      <th>3</th>\n",
       "      <td>3</td>\n",
       "      <td>2017-01-01</td>\n",
       "      <td>Belgium</td>\n",
       "      <td>KaggleMart</td>\n",
       "      <td>Kaggle for Kids: One Smart Goose</td>\n",
       "      <td>710</td>\n",
       "    </tr>\n",
       "    <tr>\n",
       "      <th>4</th>\n",
       "      <td>4</td>\n",
       "      <td>2017-01-01</td>\n",
       "      <td>Belgium</td>\n",
       "      <td>KaggleRama</td>\n",
       "      <td>Kaggle Advanced Techniques</td>\n",
       "      <td>240</td>\n",
       "    </tr>\n",
       "  </tbody>\n",
       "</table>\n",
       "</div>"
      ],
      "text/plain": [
       "   row_id       date  country       store                           product  \\\n",
       "0       0 2017-01-01  Belgium  KaggleMart        Kaggle Advanced Techniques   \n",
       "1       1 2017-01-01  Belgium  KaggleMart            Kaggle Getting Started   \n",
       "2       2 2017-01-01  Belgium  KaggleMart                Kaggle Recipe Book   \n",
       "3       3 2017-01-01  Belgium  KaggleMart  Kaggle for Kids: One Smart Goose   \n",
       "4       4 2017-01-01  Belgium  KaggleRama        Kaggle Advanced Techniques   \n",
       "\n",
       "   num_sold  \n",
       "0       663  \n",
       "1       615  \n",
       "2       480  \n",
       "3       710  \n",
       "4       240  "
      ]
     },
     "execution_count": 2,
     "metadata": {},
     "output_type": "execute_result"
    }
   ],
   "source": [
    "train_df = pd.read_csv('../input/tabular-playground-series-sep-2022/train.csv')\n",
    "train_df.date= pd.to_datetime(train_df.date)\n",
    "train_df.head()"
   ]
  },
  {
   "cell_type": "code",
   "execution_count": 3,
   "id": "98446d88",
   "metadata": {
    "execution": {
     "iopub.execute_input": "2022-09-30T04:01:14.787617Z",
     "iopub.status.busy": "2022-09-30T04:01:14.786823Z",
     "iopub.status.idle": "2022-09-30T04:01:14.855283Z",
     "shell.execute_reply": "2022-09-30T04:01:14.853997Z"
    },
    "papermill": {
     "duration": 0.080138,
     "end_time": "2022-09-30T04:01:14.858144",
     "exception": false,
     "start_time": "2022-09-30T04:01:14.778006",
     "status": "completed"
    },
    "tags": []
   },
   "outputs": [
    {
     "data": {
      "text/html": [
       "<div>\n",
       "<style scoped>\n",
       "    .dataframe tbody tr th:only-of-type {\n",
       "        vertical-align: middle;\n",
       "    }\n",
       "\n",
       "    .dataframe tbody tr th {\n",
       "        vertical-align: top;\n",
       "    }\n",
       "\n",
       "    .dataframe thead th {\n",
       "        text-align: right;\n",
       "    }\n",
       "</style>\n",
       "<table border=\"1\" class=\"dataframe\">\n",
       "  <thead>\n",
       "    <tr style=\"text-align: right;\">\n",
       "      <th></th>\n",
       "      <th>row_id</th>\n",
       "      <th>date</th>\n",
       "      <th>country</th>\n",
       "      <th>store</th>\n",
       "      <th>product</th>\n",
       "    </tr>\n",
       "  </thead>\n",
       "  <tbody>\n",
       "    <tr>\n",
       "      <th>0</th>\n",
       "      <td>70128</td>\n",
       "      <td>2017-01-01</td>\n",
       "      <td>Belgium</td>\n",
       "      <td>KaggleMart</td>\n",
       "      <td>Kaggle Advanced Techniques</td>\n",
       "    </tr>\n",
       "    <tr>\n",
       "      <th>1</th>\n",
       "      <td>70129</td>\n",
       "      <td>2017-01-01</td>\n",
       "      <td>Belgium</td>\n",
       "      <td>KaggleMart</td>\n",
       "      <td>Kaggle Getting Started</td>\n",
       "    </tr>\n",
       "    <tr>\n",
       "      <th>2</th>\n",
       "      <td>70130</td>\n",
       "      <td>2017-01-01</td>\n",
       "      <td>Belgium</td>\n",
       "      <td>KaggleMart</td>\n",
       "      <td>Kaggle Recipe Book</td>\n",
       "    </tr>\n",
       "    <tr>\n",
       "      <th>3</th>\n",
       "      <td>70131</td>\n",
       "      <td>2017-01-01</td>\n",
       "      <td>Belgium</td>\n",
       "      <td>KaggleMart</td>\n",
       "      <td>Kaggle for Kids: One Smart Goose</td>\n",
       "    </tr>\n",
       "    <tr>\n",
       "      <th>4</th>\n",
       "      <td>70132</td>\n",
       "      <td>2017-01-01</td>\n",
       "      <td>Belgium</td>\n",
       "      <td>KaggleRama</td>\n",
       "      <td>Kaggle Advanced Techniques</td>\n",
       "    </tr>\n",
       "  </tbody>\n",
       "</table>\n",
       "</div>"
      ],
      "text/plain": [
       "   row_id       date  country       store                           product\n",
       "0   70128 2017-01-01  Belgium  KaggleMart        Kaggle Advanced Techniques\n",
       "1   70129 2017-01-01  Belgium  KaggleMart            Kaggle Getting Started\n",
       "2   70130 2017-01-01  Belgium  KaggleMart                Kaggle Recipe Book\n",
       "3   70131 2017-01-01  Belgium  KaggleMart  Kaggle for Kids: One Smart Goose\n",
       "4   70132 2017-01-01  Belgium  KaggleRama        Kaggle Advanced Techniques"
      ]
     },
     "execution_count": 3,
     "metadata": {},
     "output_type": "execute_result"
    }
   ],
   "source": [
    "test_df = pd.read_csv('../input/tabular-playground-series-sep-2022/test.csv')\n",
    "test_df.date= pd.to_datetime(train_df.date)\n",
    "test_df.head()"
   ]
  },
  {
   "cell_type": "markdown",
   "id": "6f6b4ac6",
   "metadata": {
    "papermill": {
     "duration": 0.006991,
     "end_time": "2022-09-30T04:01:14.872780",
     "exception": false,
     "start_time": "2022-09-30T04:01:14.865789",
     "status": "completed"
    },
    "tags": []
   },
   "source": [
    "### Cleaning"
   ]
  },
  {
   "cell_type": "code",
   "execution_count": 4,
   "id": "278f1b80",
   "metadata": {
    "execution": {
     "iopub.execute_input": "2022-09-30T04:01:14.889650Z",
     "iopub.status.busy": "2022-09-30T04:01:14.889099Z",
     "iopub.status.idle": "2022-09-30T04:01:14.912752Z",
     "shell.execute_reply": "2022-09-30T04:01:14.911617Z"
    },
    "papermill": {
     "duration": 0.035311,
     "end_time": "2022-09-30T04:01:14.915376",
     "exception": false,
     "start_time": "2022-09-30T04:01:14.880065",
     "status": "completed"
    },
    "tags": []
   },
   "outputs": [
    {
     "data": {
      "text/plain": [
       "row_id      0\n",
       "date        0\n",
       "country     0\n",
       "store       0\n",
       "product     0\n",
       "num_sold    0\n",
       "dtype: int64"
      ]
     },
     "execution_count": 4,
     "metadata": {},
     "output_type": "execute_result"
    }
   ],
   "source": [
    "# Null test\n",
    "\n",
    "train_df.isnull().sum()"
   ]
  },
  {
   "cell_type": "code",
   "execution_count": 5,
   "id": "8944ad53",
   "metadata": {
    "execution": {
     "iopub.execute_input": "2022-09-30T04:01:14.932898Z",
     "iopub.status.busy": "2022-09-30T04:01:14.931927Z",
     "iopub.status.idle": "2022-09-30T04:01:14.977923Z",
     "shell.execute_reply": "2022-09-30T04:01:14.976549Z"
    },
    "papermill": {
     "duration": 0.057706,
     "end_time": "2022-09-30T04:01:14.980685",
     "exception": false,
     "start_time": "2022-09-30T04:01:14.922979",
     "status": "completed"
    },
    "tags": []
   },
   "outputs": [
    {
     "data": {
      "text/plain": [
       "array([False])"
      ]
     },
     "execution_count": 5,
     "metadata": {},
     "output_type": "execute_result"
    }
   ],
   "source": [
    "# Duplicates\n",
    "\n",
    "train_df.duplicated().unique()"
   ]
  },
  {
   "cell_type": "code",
   "execution_count": 6,
   "id": "4a8a07d8",
   "metadata": {
    "execution": {
     "iopub.execute_input": "2022-09-30T04:01:14.998411Z",
     "iopub.status.busy": "2022-09-30T04:01:14.997850Z",
     "iopub.status.idle": "2022-09-30T04:01:15.005136Z",
     "shell.execute_reply": "2022-09-30T04:01:15.003959Z"
    },
    "papermill": {
     "duration": 0.018917,
     "end_time": "2022-09-30T04:01:15.007513",
     "exception": false,
     "start_time": "2022-09-30T04:01:14.988596",
     "status": "completed"
    },
    "tags": []
   },
   "outputs": [],
   "source": [
    "# Dates with higher importance on sale\n",
    "important_dates = [1, 2, 3, 4, 5, 6, 7, 8, 9, 10, 11, 12,16,17, 124, 125, 126, 127, 140, 141,142, 167, 168, 169, 170, 171, 173, 174, 175, 176, 177, 178, 179, 180, 181, 203, 230, 231, 232, 233, 234, 282, 289, 290, 307, 308, 309, 310, 311, 312, 313, 317, 318, 319, 320, 360, 361, 362, 363, 364, 365]"
   ]
  },
  {
   "cell_type": "markdown",
   "id": "ca91e786",
   "metadata": {
    "papermill": {
     "duration": 0.008636,
     "end_time": "2022-09-30T04:01:15.023922",
     "exception": false,
     "start_time": "2022-09-30T04:01:15.015286",
     "status": "completed"
    },
    "tags": []
   },
   "source": [
    "### Feature Engineering"
   ]
  },
  {
   "cell_type": "markdown",
   "id": "c224be7b",
   "metadata": {
    "papermill": {
     "duration": 0.007423,
     "end_time": "2022-09-30T04:01:15.039254",
     "exception": false,
     "start_time": "2022-09-30T04:01:15.031831",
     "status": "completed"
    },
    "tags": []
   },
   "source": [
    "Feature Engineering has been taken from [here](https://www.kaggle.com/code/nanduvardhanreddy/tbh-sep-2022)."
   ]
  },
  {
   "cell_type": "code",
   "execution_count": 7,
   "id": "295a7f6c",
   "metadata": {
    "execution": {
     "iopub.execute_input": "2022-09-30T04:01:15.057338Z",
     "iopub.status.busy": "2022-09-30T04:01:15.056433Z",
     "iopub.status.idle": "2022-09-30T04:01:15.565456Z",
     "shell.execute_reply": "2022-09-30T04:01:15.564329Z"
    },
    "papermill": {
     "duration": 0.521623,
     "end_time": "2022-09-30T04:01:15.568622",
     "exception": false,
     "start_time": "2022-09-30T04:01:15.046999",
     "status": "completed"
    },
    "tags": []
   },
   "outputs": [],
   "source": [
    "# monthly and weekly grouping\n",
    "weekly_df = train_df.groupby([\"country\",\"store\", \"product\", pd.Grouper(key=\"date\", freq=\"W\")])[\"num_sold\"].sum().rename(\"num_sold\").reset_index()\n",
    "monthly_df = train_df.groupby([\"country\",\"store\", \"product\", pd.Grouper(key=\"date\", freq=\"MS\")])[\"num_sold\"].sum().rename(\"num_sold\").reset_index()\n",
    "\n",
    "product_store_weights = monthly_df.groupby([\"product\",\"store\"])[\"num_sold\"].sum() / monthly_df.groupby([\"product\"])[\"num_sold\"].sum()\n",
    "\n",
    "store_weights = train_df.groupby(\"store\")[\"num_sold\"].sum()/train_df[\"num_sold\"].sum()\n",
    "\n",
    "new_monthly_df = monthly_df.loc[monthly_df[\"date\"] < \"2020-01-01\"]\n",
    "product_country_weights = new_monthly_df.groupby([\"product\",\"country\"])[\"num_sold\"].sum() / new_monthly_df.groupby([\"product\"])[\"num_sold\"].sum()\n",
    "\n",
    "product_country_weights.reset_index().groupby(\"country\")[\"num_sold\"].mean().loc[\"France\"] / product_country_weights.reset_index().groupby(\"country\")[\"num_sold\"].mean()\n",
    "\n",
    "product_df = train_df.groupby([\"date\",\"product\"])[\"num_sold\"].sum().reset_index()\n",
    "\n",
    "product_ratio_df = product_df.pivot(index=\"date\", columns=\"product\", values=\"num_sold\")\n",
    "product_ratio_df = product_ratio_df.apply(lambda x: x/x.sum(),axis=1)\n",
    "product_ratio_df = product_ratio_df.stack().rename(\"ratios\").reset_index()\n",
    "\n",
    "train_df = train_df.groupby([\"date\"])[\"num_sold\"].sum().reset_index()\n",
    "weekly_df = train_df.groupby([pd.Grouper(key=\"date\", freq=\"W\")])[\"num_sold\"].sum().rename(\"num_sold\").reset_index()\n",
    "monthly_df = train_df.groupby([pd.Grouper(key=\"date\", freq=\"MS\")])[\"num_sold\"].sum().rename(\"num_sold\").reset_index()\n",
    "\n",
    "# Cleaning data post Covid outbreak\n",
    "\n",
    "train_df = train_df.loc[~((train_df[\"date\"] >= \"2020-03-01\") & (train_df[\"date\"] < \"2020-06-01\"))]\n",
    "\n",
    "# Forecast df\n",
    "test_all_df = test_df.groupby([\"date\"])[\"row_id\"].first().reset_index().drop(columns=\"row_id\")\n",
    "# Dates to forecast\n",
    "test_all_df_dates = test_all_df[[\"date\"]]"
   ]
  },
  {
   "cell_type": "code",
   "execution_count": 8,
   "id": "c92dedcd",
   "metadata": {
    "execution": {
     "iopub.execute_input": "2022-09-30T04:01:15.585820Z",
     "iopub.status.busy": "2022-09-30T04:01:15.585404Z",
     "iopub.status.idle": "2022-09-30T04:01:15.600388Z",
     "shell.execute_reply": "2022-09-30T04:01:15.599306Z"
    },
    "papermill": {
     "duration": 0.026257,
     "end_time": "2022-09-30T04:01:15.602696",
     "exception": false,
     "start_time": "2022-09-30T04:01:15.576439",
     "status": "completed"
    },
    "tags": []
   },
   "outputs": [],
   "source": [
    "def feature_engineer(df):\n",
    "    new_df = df.copy()\n",
    "    new_df[\"month\"] = df[\"date\"].dt.month\n",
    "    new_df[\"month_sin\"] = np.sin(new_df['month'] * (2 * np.pi / 12))\n",
    "    \n",
    "    new_df[\"day\"] = df[\"date\"].dt.day\n",
    "    new_df[\"day_sin\"] = np.sin(new_df['day'] * (2 * np.pi / 12))\n",
    "    \n",
    "    new_df[\"day_of_week\"] = df[\"date\"].dt.dayofweek\n",
    "    new_df[\"day_of_week\"] = new_df[\"day_of_week\"].apply(lambda x: 0 if x<=3 else(1 if x==4 else (2 if x==5 else (3))))\n",
    "    \n",
    "    new_df[\"day_of_year\"] = df[\"date\"].dt.dayofyear\n",
    "\n",
    "    new_df[\"day_of_year\"] = new_df.apply(lambda x: x[\"day_of_year\"]-1 if (x[\"date\"] > pd.Timestamp(\"2020-02-29\") and x[\"date\"] < pd.Timestamp(\"2021-01-01\"))  else x[\"day_of_year\"], axis=1)\n",
    "    \n",
    "    important_dates = [1, 2, 3, 4, 5, 6, 7, 8, 9, 10, 11, 12, 124, 125, 126, 127, 140, 141, 167, 168, 169, 170, 171, 173, 174, 175, 176, 177, 178, 179, \n",
    "                       180, 181, 203, 230, 231, 232, 233, 234, 282, 289, 290, 307, 308, 309, 310, 311, 312, 313, 317, 318, 319, 320, 360, 361, 362, 363, 364, 365]\n",
    "    \n",
    "\n",
    "    new_df[\"important_dates\"] = new_df[\"day_of_year\"].apply(lambda x: x if x in important_dates else 0)\n",
    "    \n",
    "    \n",
    "    new_df[\"year\"] = df[\"date\"].dt.year\n",
    "    \n",
    "    easter_date = new_df.date.apply(lambda date: pd.Timestamp(easter.easter(date.year)))\n",
    "    for day in list(range(-5, 5)) + list(range(40, 48)):\n",
    "        new_df[f'easter_{day}'] = (new_df.date - easter_date).dt.days.eq(day)\n",
    "    new_df = new_df.drop(columns=[\"date\",\"month\",\"day\", \"day_of_year\"])\n",
    "    \n",
    "    for col in new_df.columns :\n",
    "        if 'easter' in col :\n",
    "            new_df = pd.get_dummies(new_df, columns = [col], drop_first=True)\n",
    "    \n",
    "    new_df = pd.get_dummies(new_df, columns = [\"important_dates\",\"day_of_week\"], drop_first=True)\n",
    "    \n",
    "    return new_df"
   ]
  },
  {
   "cell_type": "code",
   "execution_count": 9,
   "id": "2b3d8f27",
   "metadata": {
    "execution": {
     "iopub.execute_input": "2022-09-30T04:01:15.619387Z",
     "iopub.status.busy": "2022-09-30T04:01:15.618976Z",
     "iopub.status.idle": "2022-09-30T04:01:15.630328Z",
     "shell.execute_reply": "2022-09-30T04:01:15.629150Z"
    },
    "papermill": {
     "duration": 0.022371,
     "end_time": "2022-09-30T04:01:15.632567",
     "exception": false,
     "start_time": "2022-09-30T04:01:15.610196",
     "status": "completed"
    },
    "tags": []
   },
   "outputs": [],
   "source": [
    "def get_holidays(df):\n",
    "    years_list = [2017, 2018, 2019, 2020, 2021]\n",
    "\n",
    "    holiday_BE = holidays.CountryHoliday('BE', years = years_list)\n",
    "    holiday_FR = holidays.CountryHoliday('FR', years = years_list)\n",
    "    holiday_DE = holidays.CountryHoliday('DE', years = years_list)\n",
    "    holiday_IT = holidays.CountryHoliday('IT', years = years_list)\n",
    "    holiday_PL = holidays.CountryHoliday('PL', years = years_list)\n",
    "    holiday_ES = holidays.CountryHoliday('ES', years = years_list)\n",
    "\n",
    "    holiday_dict = holiday_BE.copy()\n",
    "    holiday_dict.update(holiday_FR)\n",
    "    holiday_dict.update(holiday_DE)\n",
    "    holiday_dict.update(holiday_IT)\n",
    "    holiday_dict.update(holiday_PL)\n",
    "    holiday_dict.update(holiday_ES)\n",
    "\n",
    "    df['holiday_name'] = df['date'].map(holiday_dict)\n",
    "    df['is_holiday'] = np.where(df['holiday_name'].notnull(), 1, 0)\n",
    "    df['holiday_name'] = df['holiday_name'].fillna('Not Holiday')\n",
    "    \n",
    "    return df\n",
    "\n",
    "\n",
    "\n",
    "def encode_holiday_names(df, enc, subset='train'):\n",
    "    if subset=='train':\n",
    "        df['holiday_name'] = enc.fit_transform(df['holiday_name'].values.reshape(-1,1))\n",
    "    else:\n",
    "        df['holiday_name'] = enc.transform(df['holiday_name'].values.reshape(-1,1))\n",
    "        not_hol_val = oe.transform([['Not Holiday']])[0,0]\n",
    "        df.loc[df['holiday_name']==-1, 'holiday_name'] = not_hol_val\n",
    "    return df"
   ]
  },
  {
   "cell_type": "code",
   "execution_count": 10,
   "id": "50633d68",
   "metadata": {
    "execution": {
     "iopub.execute_input": "2022-09-30T04:01:15.649209Z",
     "iopub.status.busy": "2022-09-30T04:01:15.648803Z",
     "iopub.status.idle": "2022-09-30T04:01:15.896087Z",
     "shell.execute_reply": "2022-09-30T04:01:15.895128Z"
    },
    "papermill": {
     "duration": 0.258643,
     "end_time": "2022-09-30T04:01:15.898667",
     "exception": false,
     "start_time": "2022-09-30T04:01:15.640024",
     "status": "completed"
    },
    "tags": []
   },
   "outputs": [],
   "source": [
    "oe = preprocessing.OrdinalEncoder(handle_unknown='use_encoded_value', unknown_value=-1)\n",
    "train_all_df = get_holidays(train_df)\n",
    "test_all_df = get_holidays(test_all_df)\n",
    "train_all_df = feature_engineer(train_all_df)\n",
    "test_all_df = feature_engineer(test_all_df)\n",
    "train_all_df = encode_holiday_names(train_all_df, oe)\n",
    "test_all_df = encode_holiday_names(test_all_df, oe)"
   ]
  },
  {
   "cell_type": "markdown",
   "id": "d9c30216",
   "metadata": {
    "papermill": {
     "duration": 0.006986,
     "end_time": "2022-09-30T04:01:15.912963",
     "exception": false,
     "start_time": "2022-09-30T04:01:15.905977",
     "status": "completed"
    },
    "tags": []
   },
   "source": [
    "### Training"
   ]
  },
  {
   "cell_type": "code",
   "execution_count": 11,
   "id": "f258b68e",
   "metadata": {
    "execution": {
     "iopub.execute_input": "2022-09-30T04:01:15.929214Z",
     "iopub.status.busy": "2022-09-30T04:01:15.928824Z",
     "iopub.status.idle": "2022-09-30T04:01:15.938668Z",
     "shell.execute_reply": "2022-09-30T04:01:15.937667Z"
    },
    "papermill": {
     "duration": 0.021063,
     "end_time": "2022-09-30T04:01:15.941130",
     "exception": false,
     "start_time": "2022-09-30T04:01:15.920067",
     "status": "completed"
    },
    "tags": []
   },
   "outputs": [],
   "source": [
    "y = train_all_df[\"num_sold\"]\n",
    "X = train_all_df.drop(columns=\"num_sold\")\n",
    "X_test = test_all_df\n",
    "\n",
    "\n",
    "X_train, X_val, y_train, y_val = train_test_split(X, y, random_state=100, test_size=0.25)"
   ]
  },
  {
   "cell_type": "code",
   "execution_count": 12,
   "id": "190967c2",
   "metadata": {
    "_kg_hide-output": true,
    "execution": {
     "iopub.execute_input": "2022-09-30T04:01:15.957676Z",
     "iopub.status.busy": "2022-09-30T04:01:15.956901Z",
     "iopub.status.idle": "2022-09-30T04:01:15.961696Z",
     "shell.execute_reply": "2022-09-30T04:01:15.960772Z"
    },
    "papermill": {
     "duration": 0.015451,
     "end_time": "2022-09-30T04:01:15.963821",
     "exception": false,
     "start_time": "2022-09-30T04:01:15.948370",
     "status": "completed"
    },
    "tags": []
   },
   "outputs": [],
   "source": [
    "# from flaml import AutoML\n",
    "# # Setting up automl regression problem\n",
    "\n",
    "# # Training\n",
    "# automl = AutoML()\n",
    "\n",
    "# # Constraints \n",
    "# automl_settings = {\n",
    "#     \"time_budget\": 4000,\n",
    "#     \"metric\": 'mape',\n",
    "#     \"task\": 'regression',\n",
    "#     #\"estimator_list\" : [\"lgbm\"],\n",
    "#     \"log_file_name\": \"TPS_Sep22 AutoML.log\"\n",
    "# }\n",
    "\n",
    "# automl.fit(X_train=X_train, y_train=y_train, **automl_settings)\n",
    "# print(automl)"
   ]
  },
  {
   "cell_type": "code",
   "execution_count": 13,
   "id": "ad5a45c8",
   "metadata": {
    "execution": {
     "iopub.execute_input": "2022-09-30T04:01:15.979991Z",
     "iopub.status.busy": "2022-09-30T04:01:15.979621Z",
     "iopub.status.idle": "2022-09-30T04:01:15.984857Z",
     "shell.execute_reply": "2022-09-30T04:01:15.983881Z"
    },
    "papermill": {
     "duration": 0.015831,
     "end_time": "2022-09-30T04:01:15.986876",
     "exception": false,
     "start_time": "2022-09-30T04:01:15.971045",
     "status": "completed"
    },
    "tags": []
   },
   "outputs": [],
   "source": [
    "# Competition metric\n",
    "\n",
    "def smape(y_true, y_pred):\n",
    "    smape = abs(y_true - y_pred) / (abs(y_true) + abs(y_pred))\n",
    "    smape = smape.mean() * 200\n",
    "    return smape"
   ]
  },
  {
   "cell_type": "code",
   "execution_count": 14,
   "id": "245f4b0e",
   "metadata": {
    "execution": {
     "iopub.execute_input": "2022-09-30T04:01:16.003486Z",
     "iopub.status.busy": "2022-09-30T04:01:16.003103Z",
     "iopub.status.idle": "2022-09-30T04:01:16.185566Z",
     "shell.execute_reply": "2022-09-30T04:01:16.184422Z"
    },
    "papermill": {
     "duration": 0.195136,
     "end_time": "2022-09-30T04:01:16.189644",
     "exception": false,
     "start_time": "2022-09-30T04:01:15.994508",
     "status": "completed"
    },
    "tags": []
   },
   "outputs": [
    {
     "name": "stdout",
     "output_type": "stream",
     "text": [
      "smape: 9.87453088150577\n"
     ]
    }
   ],
   "source": [
    "# Ridge\n",
    "\n",
    "ridge_preds = np.zeros(X_test.shape[0])\n",
    "avg_smape = 0\n",
    "n=0\n",
    "\n",
    "kf = GroupKFold(n_splits=4)\n",
    "\n",
    "for trn_idx, test_idx in kf.split(X, groups=X.year) :\n",
    "    x_train, x_valid = X.iloc[trn_idx], X.iloc[test_idx]\n",
    "    y_train, y_valid = y.iloc[trn_idx], y.iloc[test_idx]\n",
    "    \n",
    "    ridge_model = Ridge(alpha=0.2, tol=0.00001, max_iter=10000)\n",
    "    #ridge_model = make_pipeline(preprocessing.StandardScaler(), ridge_model)\n",
    "    ridge_model.fit(x_train, y_train)\n",
    "\n",
    "    y_pred = ridge_model.predict(x_valid)\n",
    "    avg_smape += smape(y_pred, y_valid)\n",
    "\n",
    "    n = n + 1\n",
    "\n",
    "    test_pred = ridge_model.predict(X_test)\n",
    "    pred = pd.Series(test_pred) \n",
    "\n",
    "    ridge_preds += pred / kf.n_splits\n",
    "\n",
    "print(f\"smape: {avg_smape/kf.n_splits}\")"
   ]
  },
  {
   "cell_type": "code",
   "execution_count": 15,
   "id": "ed2fe9a9",
   "metadata": {
    "execution": {
     "iopub.execute_input": "2022-09-30T04:01:16.259190Z",
     "iopub.status.busy": "2022-09-30T04:01:16.258346Z",
     "iopub.status.idle": "2022-09-30T04:01:16.557404Z",
     "shell.execute_reply": "2022-09-30T04:01:16.555487Z"
    },
    "papermill": {
     "duration": 0.346093,
     "end_time": "2022-09-30T04:01:16.561431",
     "exception": false,
     "start_time": "2022-09-30T04:01:16.215338",
     "status": "completed"
    },
    "tags": []
   },
   "outputs": [
    {
     "name": "stdout",
     "output_type": "stream",
     "text": [
      "smape: 7.177064124274411\n"
     ]
    }
   ],
   "source": [
    "# Linear Regression\n",
    "\n",
    "linear_preds = np.zeros(X_test.shape[0])\n",
    "avg_smape = 0\n",
    "n=0\n",
    "\n",
    "kf = GroupKFold(n_splits=4)\n",
    "\n",
    "for trn_idx, test_idx in kf.split(X, groups=X.year) :\n",
    "    x_train, x_valid = X.iloc[trn_idx], X.iloc[test_idx]\n",
    "    y_train, y_valid = y.iloc[trn_idx], y.iloc[test_idx]\n",
    "    \n",
    "    linear_model = LinearRegression()\n",
    "    linear_model = make_pipeline(preprocessing.StandardScaler(), linear_model)\n",
    "    linear_model.fit(x_train, y_train)\n",
    "\n",
    "    y_pred = ridge_model.predict(x_valid)\n",
    "    avg_smape += smape(y_pred, y_valid)\n",
    "\n",
    "    n = n + 1\n",
    "\n",
    "    test_pred = ridge_model.predict(X_test)\n",
    "    pred = pd.Series(test_pred) \n",
    "\n",
    "    linear_preds += pred / kf.n_splits\n",
    "    \n",
    "print(f\"smape: {avg_smape/kf.n_splits}\")"
   ]
  },
  {
   "cell_type": "code",
   "execution_count": 16,
   "id": "c4930df0",
   "metadata": {
    "execution": {
     "iopub.execute_input": "2022-09-30T04:01:16.631775Z",
     "iopub.status.busy": "2022-09-30T04:01:16.631067Z",
     "iopub.status.idle": "2022-09-30T04:01:16.646153Z",
     "shell.execute_reply": "2022-09-30T04:01:16.644487Z"
    },
    "papermill": {
     "duration": 0.058932,
     "end_time": "2022-09-30T04:01:16.651137",
     "exception": false,
     "start_time": "2022-09-30T04:01:16.592205",
     "status": "completed"
    },
    "tags": []
   },
   "outputs": [],
   "source": [
    "test_all_df_dates['num_sold'] = 0.95*linear_preds + 0.05*ridge_preds"
   ]
  },
  {
   "cell_type": "markdown",
   "id": "83ddbd3b",
   "metadata": {
    "papermill": {
     "duration": 0.007019,
     "end_time": "2022-09-30T04:01:16.673912",
     "exception": false,
     "start_time": "2022-09-30T04:01:16.666893",
     "status": "completed"
    },
    "tags": []
   },
   "source": [
    "### Prediction"
   ]
  },
  {
   "cell_type": "code",
   "execution_count": 17,
   "id": "cc7aa269",
   "metadata": {
    "execution": {
     "iopub.execute_input": "2022-09-30T04:01:16.690337Z",
     "iopub.status.busy": "2022-09-30T04:01:16.689809Z",
     "iopub.status.idle": "2022-09-30T04:01:16.845502Z",
     "shell.execute_reply": "2022-09-30T04:01:16.844204Z"
    },
    "papermill": {
     "duration": 0.167162,
     "end_time": "2022-09-30T04:01:16.848456",
     "exception": false,
     "start_time": "2022-09-30T04:01:16.681294",
     "status": "completed"
    },
    "tags": []
   },
   "outputs": [],
   "source": [
    "product_ratio_2017 = product_ratio_df.loc[product_ratio_df['date'].dt.year == 2017].copy()\n",
    "product_ratio_2017['mm-dd'] = product_ratio_2017['date'].dt.strftime('%m-%d')\n",
    "product_ratio_2017 = product_ratio_2017.drop(columns='date')\n",
    "product_ratio_2017 = product_ratio_2017.reset_index()\n",
    "product_ratio_2018 = product_ratio_df.loc[product_ratio_df['date'].dt.year == 2018].copy()\n",
    "product_ratio_2018['mm-dd'] = product_ratio_2018['date'].dt.strftime('%m-%d')\n",
    "product_ratio_2018 = product_ratio_2018.drop(columns='date')\n",
    "product_ratio_2018 = product_ratio_2018.reset_index()\n",
    "product_ratio_2019 = product_ratio_df.loc[product_ratio_df['date'].dt.year == 2019].copy()\n",
    "product_ratio_2019['mm-dd'] = product_ratio_2019['date'].dt.strftime('%m-%d')\n",
    "product_ratio_2019 = product_ratio_2019.drop(columns='date')\n",
    "product_ratio_2019 = product_ratio_2019.reset_index()\n",
    "product_ratio_2019['mean_ratios'] = (product_ratio_2017['ratios']+product_ratio_2018['ratios']+product_ratio_2019['ratios'])/3\n",
    "\n",
    "\n",
    "test_product_ratio_df = test_df.copy()\n",
    "test_product_ratio_df['mm-dd'] = test_product_ratio_df['date'].dt.strftime('%m-%d')\n",
    "\n",
    "test_product_ratio_df = pd.merge(test_product_ratio_df,product_ratio_2019, how=\"left\", on = [\"mm-dd\",\"product\"])\n",
    "\n",
    "temp_df = pd.concat([product_ratio_df,test_product_ratio_df]).reset_index(drop=True)\n"
   ]
  },
  {
   "cell_type": "code",
   "execution_count": 18,
   "id": "f16a1506",
   "metadata": {
    "execution": {
     "iopub.execute_input": "2022-09-30T04:01:16.865738Z",
     "iopub.status.busy": "2022-09-30T04:01:16.864925Z",
     "iopub.status.idle": "2022-09-30T04:01:16.948376Z",
     "shell.execute_reply": "2022-09-30T04:01:16.946924Z"
    },
    "papermill": {
     "duration": 0.095451,
     "end_time": "2022-09-30T04:01:16.951462",
     "exception": false,
     "start_time": "2022-09-30T04:01:16.856011",
     "status": "completed"
    },
    "tags": []
   },
   "outputs": [],
   "source": [
    "original_train_df = pd.read_csv('../input/tabular-playground-series-sep-2022/train.csv', parse_dates=['date'])"
   ]
  },
  {
   "cell_type": "code",
   "execution_count": 19,
   "id": "db2e8a71",
   "metadata": {
    "execution": {
     "iopub.execute_input": "2022-09-30T04:01:16.970175Z",
     "iopub.status.busy": "2022-09-30T04:01:16.968235Z",
     "iopub.status.idle": "2022-09-30T04:01:17.001425Z",
     "shell.execute_reply": "2022-09-30T04:01:17.000237Z"
    },
    "papermill": {
     "duration": 0.045204,
     "end_time": "2022-09-30T04:01:17.004416",
     "exception": false,
     "start_time": "2022-09-30T04:01:16.959212",
     "status": "completed"
    },
    "tags": []
   },
   "outputs": [],
   "source": [
    "test_sub_df = pd.merge(test_df, test_all_df_dates, how=\"left\")\n",
    "test_sub_df[\"ratios\"] = test_product_ratio_df[\"ratios\"]\n",
    "test_sub_df[\"mean_ratios\"] = test_product_ratio_df[\"mean_ratios\"]\n",
    "\n",
    "store_weights = original_train_df.groupby('store')['num_sold'].sum()/original_train_df['num_sold'].sum()\n",
    "\n",
    "country_weights = original_train_df.groupby('country')['num_sold'].sum()/original_train_df['num_sold'].sum()"
   ]
  },
  {
   "cell_type": "code",
   "execution_count": 20,
   "id": "ea69c610",
   "metadata": {
    "execution": {
     "iopub.execute_input": "2022-09-30T04:01:17.022788Z",
     "iopub.status.busy": "2022-09-30T04:01:17.021435Z",
     "iopub.status.idle": "2022-09-30T04:01:17.030460Z",
     "shell.execute_reply": "2022-09-30T04:01:17.029539Z"
    },
    "papermill": {
     "duration": 0.020859,
     "end_time": "2022-09-30T04:01:17.033033",
     "exception": false,
     "start_time": "2022-09-30T04:01:17.012174",
     "status": "completed"
    },
    "tags": []
   },
   "outputs": [],
   "source": [
    "def disaggregate_forecast(df) :\n",
    "    new_df = df.copy()\n",
    "    \n",
    "    store_weights = original_train_df.groupby('store')['num_sold'].sum()/original_train_df['num_sold'].sum()\n",
    "    #print(store_weights)\n",
    "    country_weights = pd.Series(index = test_sub_df[\"country\"].unique(),data = 1/6)\n",
    "    #print(country_weights)\n",
    "    for country in country_weights.index:\n",
    "        new_df.loc[(new_df[\"country\"] == country), \"num_sold\"] = new_df.loc[(new_df[\"country\"] == country), \"num_sold\"] *  country_weights[country]\n",
    "    #print(new_df)\n",
    "    for store in store_weights.index:\n",
    "        new_df.loc[new_df[\"store\"] == store, \"num_sold\"] = new_df.loc[new_df[\"store\"] == store, \"num_sold\"] * store_weights[store]\n",
    "        \n",
    "    new_df[\"num_sold\"] = new_df[\"num_sold\"] * new_df[\"mean_ratios\"]\n",
    "    new_df[\"num_sold\"] = new_df[\"num_sold\"].round()\n",
    "    new_df = new_df.drop(columns=[\"ratios\"])    \n",
    "    \n",
    "    return new_df"
   ]
  },
  {
   "cell_type": "code",
   "execution_count": 21,
   "id": "53368a2e",
   "metadata": {
    "execution": {
     "iopub.execute_input": "2022-09-30T04:01:17.050483Z",
     "iopub.status.busy": "2022-09-30T04:01:17.049547Z",
     "iopub.status.idle": "2022-09-30T04:01:17.100024Z",
     "shell.execute_reply": "2022-09-30T04:01:17.099018Z"
    },
    "papermill": {
     "duration": 0.062039,
     "end_time": "2022-09-30T04:01:17.102740",
     "exception": false,
     "start_time": "2022-09-30T04:01:17.040701",
     "status": "completed"
    },
    "tags": []
   },
   "outputs": [],
   "source": [
    "final_df = disaggregate_forecast(test_sub_df)"
   ]
  },
  {
   "cell_type": "markdown",
   "id": "48dce382",
   "metadata": {
    "papermill": {
     "duration": 0.007307,
     "end_time": "2022-09-30T04:01:17.117709",
     "exception": false,
     "start_time": "2022-09-30T04:01:17.110402",
     "status": "completed"
    },
    "tags": []
   },
   "source": [
    "### Submission"
   ]
  },
  {
   "cell_type": "code",
   "execution_count": 22,
   "id": "c1481649",
   "metadata": {
    "execution": {
     "iopub.execute_input": "2022-09-30T04:01:17.135290Z",
     "iopub.status.busy": "2022-09-30T04:01:17.134150Z",
     "iopub.status.idle": "2022-09-30T04:01:17.169126Z",
     "shell.execute_reply": "2022-09-30T04:01:17.167918Z"
    },
    "papermill": {
     "duration": 0.046326,
     "end_time": "2022-09-30T04:01:17.171546",
     "exception": false,
     "start_time": "2022-09-30T04:01:17.125220",
     "status": "completed"
    },
    "tags": []
   },
   "outputs": [
    {
     "data": {
      "text/html": [
       "<div>\n",
       "<style scoped>\n",
       "    .dataframe tbody tr th:only-of-type {\n",
       "        vertical-align: middle;\n",
       "    }\n",
       "\n",
       "    .dataframe tbody tr th {\n",
       "        vertical-align: top;\n",
       "    }\n",
       "\n",
       "    .dataframe thead th {\n",
       "        text-align: right;\n",
       "    }\n",
       "</style>\n",
       "<table border=\"1\" class=\"dataframe\">\n",
       "  <thead>\n",
       "    <tr style=\"text-align: right;\">\n",
       "      <th></th>\n",
       "      <th>row_id</th>\n",
       "      <th>num_sold</th>\n",
       "    </tr>\n",
       "  </thead>\n",
       "  <tbody>\n",
       "    <tr>\n",
       "      <th>0</th>\n",
       "      <td>70128</td>\n",
       "      <td>485.0</td>\n",
       "    </tr>\n",
       "    <tr>\n",
       "      <th>1</th>\n",
       "      <td>70129</td>\n",
       "      <td>396.0</td>\n",
       "    </tr>\n",
       "    <tr>\n",
       "      <th>2</th>\n",
       "      <td>70130</td>\n",
       "      <td>329.0</td>\n",
       "    </tr>\n",
       "    <tr>\n",
       "      <th>3</th>\n",
       "      <td>70131</td>\n",
       "      <td>528.0</td>\n",
       "    </tr>\n",
       "    <tr>\n",
       "      <th>4</th>\n",
       "      <td>70132</td>\n",
       "      <td>168.0</td>\n",
       "    </tr>\n",
       "  </tbody>\n",
       "</table>\n",
       "</div>"
      ],
      "text/plain": [
       "   row_id  num_sold\n",
       "0   70128     485.0\n",
       "1   70129     396.0\n",
       "2   70130     329.0\n",
       "3   70131     528.0\n",
       "4   70132     168.0"
      ]
     },
     "execution_count": 22,
     "metadata": {},
     "output_type": "execute_result"
    }
   ],
   "source": [
    "# Final csv \n",
    "submission_df = pd.DataFrame()\n",
    "submission_df['row_id'] = pd.read_csv('../input/tabular-playground-series-sep-2022/test.csv')['row_id']\n",
    "submission_df['num_sold'] =  final_df['num_sold']\n",
    "submission_df.head()"
   ]
  },
  {
   "cell_type": "code",
   "execution_count": 23,
   "id": "57d51808",
   "metadata": {
    "execution": {
     "iopub.execute_input": "2022-09-30T04:01:17.189114Z",
     "iopub.status.busy": "2022-09-30T04:01:17.188331Z",
     "iopub.status.idle": "2022-09-30T04:01:17.221549Z",
     "shell.execute_reply": "2022-09-30T04:01:17.220587Z"
    },
    "papermill": {
     "duration": 0.045132,
     "end_time": "2022-09-30T04:01:17.224480",
     "exception": false,
     "start_time": "2022-09-30T04:01:17.179348",
     "status": "completed"
    },
    "tags": []
   },
   "outputs": [],
   "source": [
    "submission_df.to_csv(\"submission.csv\", index=False)"
   ]
  }
 ],
 "metadata": {
  "kernelspec": {
   "display_name": "Python 3",
   "language": "python",
   "name": "python3"
  },
  "language_info": {
   "codemirror_mode": {
    "name": "ipython",
    "version": 3
   },
   "file_extension": ".py",
   "mimetype": "text/x-python",
   "name": "python",
   "nbconvert_exporter": "python",
   "pygments_lexer": "ipython3",
   "version": "3.7.12"
  },
  "papermill": {
   "default_parameters": {},
   "duration": 14.962026,
   "end_time": "2022-09-30T04:01:18.054796",
   "environment_variables": {},
   "exception": null,
   "input_path": "__notebook__.ipynb",
   "output_path": "__notebook__.ipynb",
   "parameters": {},
   "start_time": "2022-09-30T04:01:03.092770",
   "version": "2.3.4"
  }
 },
 "nbformat": 4,
 "nbformat_minor": 5
}
